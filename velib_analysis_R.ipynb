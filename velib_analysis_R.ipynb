{
 "cells": [
  {
   "cell_type": "markdown",
   "id": "threaded-entertainment",
   "metadata": {},
   "source": [
    "### Importing libraries"
   ]
  },
  {
   "cell_type": "code",
   "execution_count": null,
   "id": "current-christmas",
   "metadata": {},
   "outputs": [],
   "source": [
    "library(funFEM)\n",
    "library(tidyverse)\n",
    "library(ggmap)\n",
    "library(gridExtra)\n",
    "library(RColorBrewer)\n",
    "library(ggthemes)\n",
    "data(velib)"
   ]
  },
  {
   "cell_type": "markdown",
   "id": "roman-pressure",
   "metadata": {},
   "source": [
    "### Preparing data"
   ]
  },
  {
   "cell_type": "code",
   "execution_count": null,
   "id": "written-cookie",
   "metadata": {},
   "outputs": [],
   "source": [
    "x <- as.matrix(velib$data)\n",
    "colnames(x) <- 1:ncol(x)\n",
    "rownames(x) <- velib$names\n",
    "\n",
    "bikes <- tibble(velib$data)\n",
    "bikes$long <- velib$position$longitude\n",
    "bikes$lat <- velib$position$latitude\n",
    "bikes$hill <- as.factor(velib$bonus)\n",
    "bikes$name <- velib$name\n",
    "\n",
    "fig <- function(width, heigth){\n",
    "     options(repr.plot.width = width, repr.plot.height = heigth)\n",
    "}\n",
    "\n",
    "name_func <- function(name) {\n",
    "    paste('T', as.numeric(substring(name, first=2))-13, sep='')\n",
    "}\n",
    "\n",
    "bikes <- bikes %>% \n",
    "    select(!V1:V13) %>%\n",
    "    rename_with(name_func, V14:V181)\n",
    "\n",
    "head(bikes)"
   ]
  },
  {
   "cell_type": "markdown",
   "id": "caring-boost",
   "metadata": {},
   "source": [
    "### Descriptive statistics"
   ]
  },
  {
   "cell_type": "code",
   "execution_count": null,
   "id": "canadian-machinery",
   "metadata": {},
   "outputs": [],
   "source": [
    "plotcolors <- c(brewer.pal(name='Dark2', 8)[-1])\n",
    "options(repr.plot.width = 12, repr.plot.height = 6)\n",
    "\n",
    "plot_station <- function(stat,i) {\n",
    "    ggplot() + geom_line(aes(c(0:167), stat[i, ]), color=plotcolors[i]) + labs(title=rownames(stat)[i]) +\n",
    "    scale_y_continuous(name='Loading', limits=c(0, 1)) + \n",
    "    scale_x_continuous(name='Time', limits=c(0, 168))\n",
    "}\n",
    "\n",
    "options(repr.plot.width = 12, repr.plot.height = 6)\n",
    "p1 <- plot_station(x,1)\n",
    "p2 <- plot_station(x,2)\n",
    "p3 <- plot_station(x,3)\n",
    "p4 <- plot_station(x,4)\n",
    "p5 <- plot_station(x,5)\n",
    "p6 <- plot_station(x,6)\n",
    "\n",
    "grid.arrange(p1,p2,p3,p4,p5,p6, nrow=2, ncol=3) "
   ]
  },
  {
   "cell_type": "code",
   "execution_count": null,
   "id": "continent-guatemala",
   "metadata": {},
   "outputs": [],
   "source": [
    "days = c('Monday', 'Tuesday', 'Wednesday', 'Thursday', 'Friday', 'Saturday', 'Sunday')\n",
    "\n",
    "bikes_long <- bikes %>% pivot_longer(cols=T1:T168, names_to='time', values_to ='loading') %>% \n",
    "    mutate(time=as.numeric(substring(time, first=2))-1)\n",
    "\n",
    "bikes.load_by_day <- bikes_long %>% \n",
    "    mutate(day=factor(days[(time %/% 24) + 1], ordered = TRUE, levels=days)) %>%\n",
    "    mutate(hour=time %% 24) %>%\n",
    "    group_by(day, hour) %>%\n",
    "    summarise(mean_load=mean(loading)) %>%\n",
    "    mutate(usage=100*(1-mean_load)) \n",
    "\n",
    "#bikes.load_by_day <- bikes.load_by_day %>% union(bikes.load_by_day %>%\n",
    "#              filter(hour==0) %>%\n",
    "#              mutate(hour=24) %>% \n",
    "#              ungroup() %>%\n",
    "#              select(-day) %>%\n",
    "#              bind_cols(tibble(day=factor(days[c(7, 1:6)], ordered = TRUE, levels=days))))\n",
    "head(bikes.load_by_day)"
   ]
  },
  {
   "cell_type": "code",
   "execution_count": null,
   "id": "handmade-sacrifice",
   "metadata": {},
   "outputs": [],
   "source": [
    "fig(9,5)\n",
    "daycolors <- c(brewer.pal(name='YlGn', 6)[-1], brewer.pal(name='Blues', 9)[c(5,8)])\n",
    "\n",
    "ggplot(bikes.load_by_day, aes(hour, mean_load, col=day)) + \n",
    "    geom_line() +\n",
    "    geom_point() +\n",
    "    scale_x_continuous(breaks = seq(0, 24, by=3)) +\n",
    "    #scale_y_continuous(limits=c(55,70), breaks = seq(55, 70, by=5), labels=paste(seq(55, 70, by=5), '%', sep='')) +\n",
    "    scale_y_continuous(limits=c(.3,.45), breaks = seq(.3, .45, by=.05)) +\n",
    "    scale_color_manual(labels=days, values=daycolors) +\n",
    "    #labs(title='Average loading by time of day', x='hour', y='average loading', color='Day')\n",
    "    labs(x='Hour of day', y='Loading', color='Day') + \n",
    "    theme(text = element_text(size = 16))  "
   ]
  },
  {
   "cell_type": "code",
   "execution_count": null,
   "id": "polish-farming",
   "metadata": {},
   "outputs": [],
   "source": [
    "bikes.load_by_hour <- bikes_long %>%\n",
    "    filter(time < 5*24) %>%\n",
    "    mutate(hour=time %% 24) %>%\n",
    "    group_by(hour, name) %>%\n",
    "    summarise(mean_load=mean(loading)) %>%\n",
    "    inner_join(bikes %>% select(name, long, lat), by='name')\n",
    "\n",
    "fig(12,5)\n",
    "\n",
    "q1 <- qmplot(long, lat, data=bikes.load_by_hour %>% filter(hour==6), col=mean_load) +\n",
    "    scale_colour_gradient(low='white', high='red', limits=c(0,1)) +\n",
    "    labs(title='Average weekday loading at 06') +\n",
    "    guides(color='none')\n",
    "\n",
    "q2 <- qmplot(long, lat, data=bikes.load_by_hour %>% filter(hour==12), col=mean_load) +\n",
    "    scale_colour_gradient(low='white', high='red', limits=c(0,1)) +\n",
    "    labs(title='Average weekday loading at 12') +\n",
    "    guides(color='none')\n",
    "\n",
    "q3 <- qmplot(long, lat, data=bikes.load_by_hour %>% filter(hour==23), col=mean_load) +\n",
    "    scale_colour_gradient(low='white', high='red', limits=c(0,1)) +\n",
    "    labs(title='Average weekday loading at 23') +\n",
    "    guides(color='none')\n",
    "\n",
    "grid.arrange(q1, q2, q3, ncol=3)"
   ]
  },
  {
   "cell_type": "code",
   "execution_count": null,
   "id": "monthly-league",
   "metadata": {},
   "outputs": [],
   "source": [
    "library(reshape2)\n",
    "cormat <- cor(bikes %>% select(T1:T168))\n",
    "melted_cormat <- melt(cormat)\n",
    "ggplot(melted_cormat, aes(Var2, Var1, fill=value)) +\n",
    "    scale_x_discrete(breaks=NULL, labels=NULL) + scale_y_discrete(breaks=NULL, limits=rev) +\n",
    "    geom_raster() +\n",
    "    scale_fill_gradient2(\"Correlation\",low = \"blue\", mid=\"white\", high = \"red\", midpoint=0, limits=c(-1,1)) +\n",
    "    theme(axis.text.x = element_text(angle = 45, vjust = 1, size = 12, hjust = 1)) +\n",
    "    coord_fixed()"
   ]
  },
  {
   "cell_type": "code",
   "execution_count": null,
   "id": "occasional-listening",
   "metadata": {},
   "outputs": [],
   "source": [
    "cormat <- cor(bikes %>% select(T1:T168))\n",
    "avg.cormat <- matrix(0L, nrow=24, ncol=24)\n",
    "for (i in 0:4) {\n",
    "    for (j in 0:4) {\n",
    "        avg.cormat <- avg.cormat + cormat[(24*i+1) : (24*(i+1)), (24*j+1) : (24*(j+1))]\n",
    "    }\n",
    "}\n",
    "avg.cormat <- avg.cormat / 25\n",
    "min(avg.cormat)\n",
    "max(avg.cormat)\n",
    "melted_cormat <- melt(avg.cormat)\n",
    "\n",
    "fig(10,6)\n",
    "ggplot(melted_cormat, aes(Var1, Var2, fill=value)) + \n",
    "    scale_x_discrete(position = 'top', labels=paste(c(0:23), 'h', sep=''), name='') +\n",
    "    scale_y_discrete(limits=rev, labels=paste(c(23:0), 'h', sep=''), name='') +\n",
    "    geom_raster() +\n",
    "    scale_fill_gradient2(\"Correlation\",low = \"blue\", mid=\"white\", high = \"red\", midpoint=0, limits=c(-1,1)) +\n",
    "    theme(legend.key.height=unit(.1, 'npc'),  text=element_text(size = 14)) +\n",
    "    coord_fixed()"
   ]
  },
  {
   "cell_type": "markdown",
   "id": "disciplinary-sugar",
   "metadata": {},
   "source": [
    "### Principal component analysis"
   ]
  },
  {
   "cell_type": "code",
   "execution_count": null,
   "id": "direct-corner",
   "metadata": {},
   "outputs": [],
   "source": [
    "library(FactoMineR)\n",
    "library(factoextra)"
   ]
  },
  {
   "cell_type": "code",
   "execution_count": null,
   "id": "athletic-possible",
   "metadata": {},
   "outputs": [],
   "source": [
    "num.pc <- 10\n",
    "res.pca <- PCA(bikes %>% select(T1:T168), ncp=num.pc)"
   ]
  },
  {
   "cell_type": "code",
   "execution_count": null,
   "id": "confused-houston",
   "metadata": {},
   "outputs": [],
   "source": [
    "fig(7,5)\n",
    "p1 <- fviz_screeplot(res.pca, ncp=num.pc, addlabels=TRUE) + \n",
    "    scale_x_discrete(breaks=c(1:num.pc), labels=paste('PC', c(1:num.pc), sep='')) +\n",

    "    labs(x='', y='Percentage of variance', title='Percentage of variance by principal component') +\n",
    "    coord_cartesian(xlim=c(0.5, num.pc+0.5), ylim=c(0,41)) +\n",
    "    theme_gray()\n",
    "\n",
    "p2 <- ggplot() + geom_bar(stat=\"identity\",aes(x=c(1:num.pc), y=res.pca$eig[1:num.pc,3]), fill='#4984B3') +\n",
    "    labs(x='', y='Percentage of variance', title='Cumulative percentage of variance') +\n",
    "    scale_x_continuous(breaks = c(1:num.pc), labels=paste('PC', c(1:num.pc), sep='')) + \n",
    "    scale_y_continuous(breaks = 25*c(0:4)) +\n",
    "    annotate('segment', x=0, xend=num.pc+1, y=75, yend=75, col='black', linetype=2, size=0.5) +\n",
    "    coord_cartesian(xlim=c(0.5, num.pc+0.5))\n",
    "\n",
    "fig(10,4)\n",
    "grid.arrange(p1, p2, nrow=1)"
   ]
  },
  {
   "cell_type": "code",
   "execution_count": null,
   "id": "prerequisite-flash",
   "metadata": {},
   "outputs": [],
   "source": [
    "plot_pc <- function(pc, i, label.days=TRUE) {\n",
    "    day.labs <- rep('', 15)\n",
    "    day.labs[2*c(1:7)] <- days\n",
    "    g <- ggplot() + geom_line(aes(c(0:167), pc[,i])) + labs(y='', title=sprintf('PC%d loading profile', i)) + \n",
    "        scale_y_continuous(name='', limits=c(-1, 1)) + \n",
    "        #scale_x_continuous(name='', limits=c(0, 168), breaks=12*c(0:14), labels=NULL) +\n",
    "        coord_cartesian(xlim=c(7, 161), ylim=c(-1,1)) + theme_minimal() +\n",
    "        annotate('rect', \n",
    "                 xmin = 24*c(0:6), xmax = 24*c(1:7), \n",
    "                 ymin = rep(-1,7), ymax = rep(1,7), \n",
    "                 fill = daycolors, alpha = .2)\n",
    "    if (label.days) {\n",
    "        g <- g + scale_x_continuous(name='', limits=c(0, 168), breaks=12*c(0:14), labels=day.labs)\n",
    "    } else {\n",
    "        g <- g + scale_x_continuous(name='', limits=c(0, 168), minor_breaks=6*c(0:28), breaks=NULL)\n",
    "    }\n",
    "    g\n",
    "}"
   ]
  },
  {
   "cell_type": "code",
   "execution_count": null,
   "id": "residential-constant",
   "metadata": {},
   "outputs": [],
   "source": [
    "fig(12,10)\n",
    "p1 <- plot_pc(res.pca$var$coord, 1)\n",
    "p2 <- plot_pc(res.pca$var$coord, 2)\n",
    "p3 <- plot_pc(res.pca$var$coord, 3)\n",
    "p4 <- plot_pc(res.pca$var$coord, 4)\n",
    "p5 <- plot_pc(res.pca$var$coord, 5)\n",
    "grid.arrange(p1,p2,p3,p4,p5, ncol=1)"
   ]
  },
  {
   "cell_type": "code",
   "execution_count": null,
   "id": "suspected-muslim",
   "metadata": {},
   "outputs": [],
   "source": [
    "bikes.pca <- as_tibble(res.pca$ind$coord) %>%\n",
    "    select(num_range('Dim.', 1:5)) %>%\n",
    "    rename_at(vars(paste('Dim.', c(1:5), sep='')), ~ paste('PC', c(1:5), sep='')) %>%\n",
    "    bind_cols(bikes %>% select(name, long, lat, hill))"
   ]
  },
  {
   "cell_type": "code",
   "execution_count": null,
   "id": "cellular-coast",
   "metadata": {},
   "outputs": [],
   "source": [
    "plotPCA <- function(pca.data, color, ...) {\n",
    "    g <- ggplot(pca.data, aes(color=as.factor(color))) +\n",
    "        guides(color='none') +\n",
    "        scale_x_continuous(position='top')\n",
    "\n",
    "    p12 <- g + geom_point(aes(PC1, PC2), ...) +\n",
    "        labs(x='PC1', y='PC2')\n",
    "    p13 <- g + geom_point(aes(PC1, PC3), ...) +\n",
    "        labs(x='', y='PC3')\n",
    "    p14 <- g + geom_point(aes(PC1, PC4), ...) +\n",
    "        labs(x='', y='PC4')\n",
    "    p23 <- g + geom_point(aes(PC2, PC3), ...) +\n",
    "        labs(x='PC2', y='')\n",
    "    p24 <- g + geom_point(aes(PC2, PC4), ...) +\n",
    "        labs(x='', y='')\n",
    "    p34 <- g + geom_point(aes(PC3, PC4), ...) +\n",
    "        labs(x='PC3', y='')\n",
    "    \n",
    "    lay <- rbind(c(1,NA,NA),\n",
    "                 c(2, 4,NA),\n",
    "                 c(3, 5, 6))\n",
    "    grid.arrange(p12, p13, p14, p23, p24, p34, layout_matrix = lay)\n",
    "}"
   ]
  },
  {
   "cell_type": "code",
   "execution_count": null,
   "id": "treated-enforcement",
   "metadata": {},
   "outputs": [],
   "source": [
    "fig(10,10)\n",
    "plotPCA(bikes.pca, bikes.pca$hill, alpha=.3, size=1, stroke=1)"
   ]
  },
  {
   "cell_type": "code",
   "execution_count": null,
   "id": "sensitive-fifth",
   "metadata": {},
   "outputs": [],
   "source": [
    "color_grad <- scale_color_gradient2(\"Dim1\", low=\"blue\", mid=\"white\", high=\"red\", midpoint=0)\n",
    "t <- c(1:168)\n",
    "\n",
    "gg.pc1 <- qmplot(long, lat, data=bikes.pca, col=PC1) +\n",
    "    color_grad + \n",
    "    guides(color='none') + \n",
    "    labs(title='PC1') +\n",
    "    theme(plot.margin=unit(c(0,0,0,0), 'in'))\n",
    "\n",
    "gg.pc2 <- qmplot(long, lat, data=bikes.pca, col=PC2) +\n",
    "    color_grad + \n",
    "    guides(color='none') + \n",
    "    labs(title='PC2') #+\n",
    "    #theme(plot.margin=unit(c(0,1,0,0), 'npc'))\n",
    "\n",
    "gg.profile <- ggplot() + \n",
    "    scale_x_continuous(name='', breaks=NULL, minor_breaks=24*c(0:7)) +\n",
    "    scale_y_continuous(name='', limits=c(-1, 1), breaks=c(-1,0,1), minor_breaks=seq(-1,1, by=.5)) +\n",
    "    coord_cartesian(xlim=c(7, 161), ylim=c(-1, 1)) +\n",
    "    theme(plot.margin=unit(c(0,0,0,0), 'in'))\n",
    "\n",
    "prof1 <- gg.profile + \n",
    "    geom_line(aes(t, res.pca$var$coord[,1])) + theme_minimal()\n",
    "\n",
    "prof2 <- gg.profile + \n",
    "    geom_line(aes(t, res.pca$var$coord[,2])) + theme_minimal()\n",
    "\n",
    "prof.height <- 1.6\n",
    "fig(8,4)\n",
    "gA1 <- ggplotGrob(gg.pc1)\n",
    "gB1 <- ggplotGrob(prof1)\n",
    "#gB1$widths[2:5] <- as.list(maxWidth)\n",
    "gB1$heights[7] <- unit(prof.height, 'cm')\n",
    "\n",
    "gA2 <- ggplotGrob(gg.pc2)\n",
    "gB2 <- ggplotGrob(prof2)\n",
    "#gB2$widths[2:5] <- as.list(maxWidth)\n",
    "gB2$heights[7] <- unit(prof.height, 'cm')\n",
    "\n",
    "\n",
    "grid::grid.newpage()\n",
    "grid.arrange(rbind(gA1, gB1), rbind(gA2, gB2), ncol=2)"
   ]
  },
  {
   "cell_type": "code",
   "execution_count": null,
   "id": "authentic-london",
   "metadata": {},
   "outputs": [],
   "source": [
    "#minlim <- min(bikes.pca$PC1, bikes.pca$PC2)\n",
    "#maxlim <- max(bikes.pca$PC1, bikes.pca$PC2)\n",
    "minlim <- -16\n",
    "maxlim <- 16\n",
    "color_grad <- scale_color_gradient2(\"PC coordinate\", low=\"blue\", mid=\"white\", high=\"red\", \n",
    "                                    midpoint=0, limits=c(minlim,maxlim), breaks=5*c(-3:3), oob=scales::squish)\n",
    "t <- c(1:168)\n",
    "\n",
    "gg.pc1 <- qmplot(long, lat, data=bikes.pca, col=PC1, shape=hill) +\n",
    "    color_grad + \n",
    "    guides(color='none', shape='none') + \n",
    "    labs(title='PC1') +\n",
    "    theme(plot.margin=unit(c(0,0,0,0), 'in'))\n",
    "\n",
    "gg.pc2 <- qmplot(long, lat, data=bikes.pca, col=PC2) +\n",
    "    color_grad + \n",
    "    labs(title='PC2') +\n",
    "    theme(plot.margin=unit(c(0,.5,0,0), 'npc'), \n",
    "          legend.position=unit(c(1.2,.5), 'npc'),\n",
    "          #legend.box.spacing=unit(c(0,0,0,0), 'npc'),\n",
    "          #legend.key.size=unit(c(.01,.05), 'npc'),\n",
    "          legend.key.height=unit(.06, 'npc'))\n",
    "\n",
    "\n",
    "prof.height <- 1.6\n",
    "fig(14,3)\n",
    "\n",
    "lay <- rbind(c(1,2,2),\n",
    "             c(1,2,2))\n",
    "grid.arrange(gg.pc1, gg.pc2, layout_matrix=lay)"
   ]
  },
  {
   "cell_type": "markdown",
   "id": "professional-responsibility",
   "metadata": {},
   "source": [
    "# K-means clustering"
   ]
  },
  {
   "cell_type": "code",
   "execution_count": null,
   "id": "ranking-player",
   "metadata": {},
   "outputs": [],
   "source": [
    "max_k <- 10\n",
    "loss <- vector(length=max_k)\n",
    "clust.data <- bikes.pca %>% select(PC1:PC5)\n",
    "for (k in 2:max_k) {\n",
    "    clust <- kmeans(bikes %>% select(T1:T168), k)\n",
    "    loss[k] = clust$tot.withinss\n",
    "}\n",
    "loss[1] = clust$totss\n",
    "fig(7,5)\n",
    "ggplot() + \n",
    "    geom_bar(stat=\"identity\",aes(x=c(1:max_k), y=loss), fill='#4984B3') +\n",
    "    geom_line(aes(x=c(1:max_k), y=loss)) +\n",
    "    geom_point(aes(x=c(1:max_k), y=loss)) +\n",
    "    scale_x_continuous(breaks = c(1:max_k), name = 'Number of clusters') +\n",
    "    scale_y_continuous(breaks = seq(0, loss[1], length.out=5), \n",
    "                       labels = seq(0, 1, length.out=5), \n",
    "                       name = 'Within-cluster variance') +\n",
    "    labs(title='Within-cluster variance relative to total variance') +\n",
    "    theme(text = element_text(size = 14))"
   ]
  },
  {
   "cell_type": "code",
   "execution_count": null,
   "id": "destroyed-maria",
   "metadata": {},
   "outputs": [],
   "source": [
    "permute_clustering <- function(km.mod) {\n",
    "    freq <- table(km.mod$cluster)\n",
    "    argsort <- order(freq)\n",
    "    k <- length(argsort)\n",
    "    km.mod$centers <- km.mod$centers[argsort,]\n",
    "    km.mod$cluster <- factor(km.mod$cluster, levels=c(1:k), labels=argsort)\n",
    "    km.mod\n",
    "}"
   ]
  },
  {
   "cell_type": "code",
   "execution_count": null,
   "id": "right-furniture",
   "metadata": {},
   "outputs": [],
   "source": [
    "K <- 5\n",
    "p <- 5\n",
    "pca.var_coord <- as.matrix(res.pca$var$coord[,1:5])\n",
    "res.km5 <- kmeans(clust.data, 5, nstart=10)\n",
    "km5centers <- matrix(nrow = 168, ncol = 5)\n",
    "for (i in 1:5){\n",
    "    km5centers[, i] <- res.pca$call$centre +\n",
    "    res.pca$call$ecart.type * res.pca$var$coord[, 1:p] %*% (as.matrix(res.km5$centers[i, ], ncol = 1) / sqrt(res.pca$eig[1:p, 1])) # coord. in the orig. space\n",
    "}"
   ]
  },
  {
   "cell_type": "code",
   "execution_count": null,
   "id": "subtle-dealer",
   "metadata": {},
   "outputs": [],
   "source": [
    "plot_center <- function(centers, i) {\n",
    "    day_lab <- rep('', 15)\n",
    "    day_lab[2*c(1:7)] <- days\n",
    "    t <- c(1:168)\n",
    "    ggplot() + geom_line(aes(t, centers[,i])) + labs(y='', title=sprintf('Centroid %d loading profile', i)) + \n",
    "        scale_y_continuous(name='', limits=c(0, 1)) + \n",
    "        scale_x_continuous(name='', limits=c(0, 168), breaks=12*c(0:14), labels=day_lab) +\n",
    "        coord_cartesian(xlim=c(7, 161), ylim=c(0,1)) +\n",
    "        annotate('rect', xmin = 24*c(0:6), xmax = 24*c(1:7), ymin = rep(0,7), ymax = rep(1,7), \n",
    "                 fill=daycolors, alpha = .3) + theme_minimal() + theme(text = element_text(size = 12))\n",
    "        \n",
    "}\n",
    "\n",
    "fig(8,8)\n",
    "p1 <- plot_center(km5centers, 1)\n",
    "p2 <- plot_center(km5centers, 2)\n",
    "p3 <- plot_center(km5centers, 3)\n",
    "p4 <- plot_center(km5centers, 4)\n",
    "p5 <- plot_center(km5centers, 5)\n",
    "grid.arrange(p1,p2,p3,p4,p5, ncol=1)"
   ]
  },
  {
   "cell_type": "code",
   "execution_count": null,
   "id": "tutorial-spell",
   "metadata": {},
   "outputs": [],
   "source": [
    "K <- 7\n",
    "p <- 5\n",
    "pca.var_coord <- as.matrix(res.pca$var$coord[,1:5])\n",
    "res.km7 <- kmeans(clust.data, K, nstart=10)\n",
    "km7centers <- matrix(nrow = 168, ncol = K)\n",
    "for (i in 1:K){\n",
    "    km7centers[, i] <- res.pca$call$centre +\n",
    "    res.pca$call$ecart.type * res.pca$var$coord[, 1:p] %*% \n",
    "    (as.matrix(res.km7$centers[i, ], ncol = 1) / sqrt(res.pca$eig[1:p, 1])) # coord. in the orig. space\n",
    "}\n",
    "\n",
    "fig(8,10)\n",
    "p1 <- plot_center(km7centers, 1)\n",
    "p2 <- plot_center(km7centers, 2)\n",
    "p3 <- plot_center(km7centers, 3)\n",
    "p4 <- plot_center(km7centers, 4)\n",
    "p5 <- plot_center(km7centers, 5)\n",
    "p6 <- plot_center(km7centers, 6)\n",
    "p7 <- plot_center(km7centers, 7)\n",
    "grid.arrange(p1,p2,p3,p4,p5,p6,p7, ncol=1)"
   ]
  },
  {
   "cell_type": "code",
   "execution_count": null,
   "id": "stupid-retention",
   "metadata": {},
   "outputs": [],
   "source": [
    "compare_full_v_pca <- function(centers.full, centers.pca, i) {\n",
    "    days = c('Monday', 'Tuesday', 'Wednesday', 'Thursday', 'Friday', 'Saturday', 'Sunday')\n",
    "    day_lab <- rep('', 15)\n",
    "    day_lab[2*c(1:7)] <- days\n",
    "    daycolors <- c(brewer.pal(name='YlGn', 6)[-1], brewer.pal(name='Blues', 9)[c(5,8)])\n",
    "    t <- c(1:168)\n",
    "    ggplot() + \n",
    "        geom_line(aes(t, centers.full[i,])) + labs(y='') +\n",
    "        geom_line(aes(t, centers.pca[,i]), color='red') + \n",
    "        scale_y_continuous(name='', limits=c(0, 1)) + \n",
    "        scale_x_continuous(name='', limits=c(0, 168), breaks=12*c(0:14), labels=day_lab) +\n",
    "        coord_cartesian(xlim=c(7, 161), ylim=c(0,1)) +\n",
    "        annotate('rect', xmin = 24*c(0:6), xmax = 24*c(1:7), ymin = rep(0,7), ymax = rep(1,7), \n",
    "                 fill=daycolors, alpha = .2) + theme(text=element_text(size=14))\n",
    "        \n",
    "}\n",
    "\n",
    "\n",
    "K <- 4\n",
    "p <- 5\n",
    "km.full <- kmeans(bikes %>% select(T1:T168), K)\n",
    "km.full <- permute_clustering(km.full)\n",
    "km.pca <- kmeans(bikes.pca %>% select(PC1:PC5), K)\n",
    "km.pca <- permute_clustering(km.pca)\n",
    "\n",
    "permut <- c(4,1,3,2)\n",
    "km.full$centers <- km.full$centers[permut,]\n",
    "km.full$cluster <- factor(km.full$cluster, labels=c(1:K), levels=permut)\n",
    "\n",
    "km.pca$centers <- km.pca$centers[permut,]\n",
    "km.pca$cluster <- factor(km.pca$cluster, levels=c(1:K), labels=permut)\n",
    "\n",
    "\n",
    "kmcenters <- matrix(nrow = 168, ncol = K)\n",
    "for (i in 1:K){\n",
    "    kmcenters[, i] <- res.pca$call$centre +\n",
    "    res.pca$call$ecart.type * res.pca$var$coord[, 1:p] %*% (as.matrix(km.pca$centers[i, ], ncol = 1) / sqrt(res.pca$eig[1:p, 1])) # coord. in the orig. space\n",
    "}\n",
    "\n",
    "\n",
    "fig(12,10)\n",
    "p1 <- compare_full_v_pca(km.full$centers, kmcenters, 1) + labs(title='Centroid 1 loading profile')\n",
    "p2 <- compare_full_v_pca(km.full$centers, kmcenters, 2) + labs(title='Centroid 2 loading profile')\n",
    "p3 <- compare_full_v_pca(km.full$centers, kmcenters, 3) + labs(title='Centroid 3 loading profile')\n",
    "p4 <- compare_full_v_pca(km.full$centers, kmcenters, 4) + labs(title='Centroid 4 loading profile')\n",
    "grid.arrange(p1,p2,p3,p4, ncol=1)"
   ]
  },
  {
   "cell_type": "code",
   "execution_count": null,
   "id": "intense-rates",
   "metadata": {},
   "outputs": [],
   "source": [
    "library(caret)\n",
    "confusionMatrix(km.pca$cluster, factor(km.full$cluster, labels=c(1:4), levels=c(3,1,2,4)), dnn = c(\"PCA clustering\", \"Raw data clustering\"))"
   ]
  },
  {
   "cell_type": "code",
   "execution_count": null,
   "id": "engaged-millennium",
   "metadata": {},
   "outputs": [],
   "source": [
    "fig(10,7)\n",
    "p1 <- plot_center(t(km.full$centers), 1) + labs(title='Centroid 1 loading profile [Low]') + theme_wsj()\n",
    "p2 <- plot_center(t(km.full$centers), 2) + labs(title='Centroid 2 loading profile [High]') + theme_wsj()\n",
    "p3 <- plot_center(t(km.full$centers), 3) + labs(title='Centroid 3 loading profile [Day]') + theme_wsj()\n",
    "p4 <- plot_center(t(km.full$centers), 4) + labs(title='Centroid 4 loading profile [Night]') + theme_wsj()\n",
    "grid.arrange(p1,p2,p3,p4, ncol=1)"
   ]
  },
  {
   "cell_type": "code",
   "execution_count": null,
   "id": "searching-generator",
   "metadata": {},
   "outputs": [],
   "source": [
    "library(lsr)\n",
    "gg_color_hue <- function(n) {\n",
    "  hues = seq(15, 375, length = n + 1)\n",
    "  hcl(h = hues, l = 65, c = 100)[1:n]\n",
    "}\n",
    "colors <- gg_color_hue(4)\n",
    "\n",
    "fig(6.5,5)\n",
    "ggplot(bikes.pca, aes(col=permuteLevels(km.full$cluster, c(4,3,2,1))  )) + \n",
    "    geom_point(aes(PC1, PC2)) + \n",
    "    theme(text=element_text(size=16)) +\n",
    "    scale_color_discrete(name='Cluster', labels=c('1 [Low]', '2 [High]', '3 [Day]', '4 [Night]')) +\n",
    "    annotate('point', x=km.pca$centers[,1], y=km.pca$centers[,2], shape=4, size=3, stroke=3)"
   ]
  },
  {
   "cell_type": "code",
   "execution_count": null,
   "id": "piano-society",
   "metadata": {},
   "outputs": [],
   "source": [
    "fig(6,5)\n",
    "qmplot(long, lat, data=bikes.pca, color=permuteLevels(km.full$cluster, c(4,3,2,1)), shape=hill) + \n",
    "    guides(shape='none') +\n",
    "    theme(text=element_text(size=16)) +\n",
    "    scale_color_discrete(name='Cluster', labels=c('1 [Low]', '2 [High]', '3 [Day]', '4 [Night]'))"
   ]
  },
  {
   "cell_type": "code",
   "execution_count": null,
   "id": "positive-final",
   "metadata": {},
   "outputs": [],
   "source": [
    "plotPCAclustering <- function(pca.data, clusters, ...) {\n",
    "    g <- ggplot(pca.data, aes(col=as.factor(clusters))) +\n",
    "        guides(color='none') +\n",
    "        scale_x_continuous(position='top')\n",
    "\n",
    "    p12 <- g + geom_point(aes(PC1, PC2), ...) +\n",
    "        labs(x='PC1', y='PC2')\n",
    "    p13 <- g + geom_point(aes(PC1, PC3), ...) +\n",
    "        labs(x='', y='PC3')\n",
    "    p14 <- g + geom_point(aes(PC1, PC4), ...) +\n",
    "        labs(x='', y='PC4')\n",
    "    p23 <- g + geom_point(aes(PC2, PC3), ...) +\n",
    "        labs(x='PC2', y='')\n",
    "    p24 <- g + geom_point(aes(PC2, PC4), ...) +\n",
    "        labs(x='', y='')\n",
    "    p34 <- g + geom_point(aes(PC3, PC4), ...) +\n",
    "        labs(x='PC3', y='')\n",
    "    \n",
    "    lay <- rbind(c(1,NA,NA),\n",
    "                 c(2, 4,NA),\n",
    "                 c(3, 5, 6))\n",
    "    grid.arrange(p12, p13, p14, p23, p24, p34, layout_matrix = lay)\n",
    "}\n",
    "\n",
    "plotPCAclustering2 <- function(pca.data, clusters, ...) {\n",
    "    g <- ggplot(pca.data, aes(col=as.factor(clusters))) +\n",
    "        guides(color='none') +\n",
    "        scale_x_continuous(position='top') +\n",
    "        labs(x='', y='') +\n",
    "        theme(plot.margin = unit(c(0,0,0,0), 'npc'))\n",
    "\n",
    "    p12 <- g + geom_point(aes(PC2, PC1), ...) #+\n",
    "        #labs(x='PC2', y='PC2')\n",
    "    p13 <- g + geom_point(aes(PC1, PC3), ...) #+\n",
    "        #labs(x='', y='PC3')\n",
    "    p14 <- g + geom_point(aes(PC1, PC4), ...) #+\n",
    "        #labs(x='', y='PC4')\n",
    "    p23 <- g + geom_point(aes(PC2, PC3), ...) #+\n",
    "        #labs(x='PC2', y='')\n",
    "    p24 <- g + geom_point(aes(PC2, PC4), ...) #+\n",
    "        #labs(x='', y='')\n",
    "    p34 <- g + geom_point(aes(PC3, PC4), ...) #+\n",
    "        #labs(x='PC3', y='')\n",
    "    \n",
    "    gg.text <- ggplot() + theme_bw() + \n",
    "        scale_x_continuous(breaks=NULL, name='') + \n",
    "        scale_y_continuous(breaks=NULL, name='') +\n",
    "        theme(plot.margin = unit(c(0,0,0,0), 'npc'))\n",
    "    t1 <- gg.text + annotate('text', 0,0, label='PC1')\n",
    "    t2 <- gg.text + annotate('text', 0,0, label='PC2')\n",
    "    t3 <- gg.text + annotate('text', 0,0, label='PC3')\n",
    "    t4 <- gg.text + annotate('text', 0,0, label='PC4')\n",
    "    \n",
    "    lay <- rbind(c(7,1, 2, 3),\n",
    "                 c(NA,8, 4, 5),\n",
    "                 c(NA, NA,9, 6),\n",
    "                 c(NA, NA, NA,10))\n",
    "    grid.arrange(p12, p13, p14, p23, p24, p34,t1,t2,t3,t4, layout_matrix = lay)\n",
    "}"
   ]
  },
  {
   "cell_type": "code",
   "execution_count": null,
   "id": "seven-butter",
   "metadata": {},
   "outputs": [],
   "source": [
    "fig(10,10)\n",
    "plotPCAclustering(bikes.pca, km.pca$cluster)"
   ]
  },
  {
   "cell_type": "markdown",
   "id": "following-visibility",
   "metadata": {},
   "source": [
    "# Herarchical clustering"
   ]
  },
  {
   "cell_type": "code",
   "execution_count": null,
   "id": "comic-fusion",
   "metadata": {},
   "outputs": [],
   "source": [
    "D <- dist(bikes.pca %>% select(PC1:PC5))\n",
    "bikes.hc <- hclust(D, 'ward.D2')"
   ]
  },
  {
   "cell_type": "code",
   "execution_count": null,
   "id": "greatest-furniture",
   "metadata": {
    "scrolled": false
   },
   "outputs": [],
   "source": [
    "require(\"cluster\")\n",
    "#sil <- silhouette(cutree(bikes.hc, 4), D)\n",
    "#sil2 <- fviz_silhouette(silhouette(cutree(bikes.hc, 2), D))# + scale_y_discrete(labels=NULL) + coord_flip()\n",
    "sil3 <- fviz_silhouette(silhouette(cutree(bikes.hc, 4), D))\n",
    "sil4 <- fviz_silhouette(silhouette(cutree(bikes.hc, 4), D))\n",
    "sil5 <- fviz_silhouette(silhouette(cutree(bikes.hc, 5), D))\n",
    "sil6 <- fviz_silhouette(silhouette(cutree(bikes.hc, 6), D))\n",
    "sil7 <- fviz_silhouette(silhouette(cutree(bikes.hc, 7), D))\n",
    "sil8 <- fviz_silhouette(silhouette(cutree(bikes.hc, 8), D))\n",
    "grid.arrange(sil3,sil4,sil5,sil6,sil7,sil8, ncol=2)"
   ]
  },
  {
   "cell_type": "code",
   "execution_count": null,
   "id": "furnished-queen",
   "metadata": {},
   "outputs": [],
   "source": [
    "hc.clusters <- cutree(bikes.hc, 5)\n",
    "fig(10,10)\n",
    "plotPCAclustering(bikes.pca, hc.clusters)"
   ]
  },
  {
   "cell_type": "code",
   "execution_count": null,
   "id": "scenic-president",
   "metadata": {},
   "outputs": [],
   "source": [
    "fig(6,4)\n",
    "qmplot(long, lat, data=bikes.pca, color=as.factor(hc.clusters)) + \n",
    "    #guides(shape='none') +\n",
    "    theme(text=element_text(size=16)) +\n",
    "    scale_color_discrete(name='Cluster', labels=c('1', '2', '3', '4', '5'))"
   ]
  },
  {
   "cell_type": "code",
   "execution_count": null,
   "id": "requested-karma",
   "metadata": {},
   "outputs": [],
   "source": [
    "fig(10,7)\n",
    "bikes %>%\n",
    "    mutate(cluster = hc.clusters) %>%\n",
    "    group_by(cluster) %>%\n",
    "    select(c(cluster, T1:T168)) %>%\n",
    "    summarise_each(funs(mean)) %>%\n",
    "    pivot_longer(cols=T1:T168, names_to='time', values_to ='loading') %>%\n",
    "    mutate(time=as.numeric(substring(time, first=2))-1) %>%\n",
    "ggplot(aes(x=time, y=loading)) + geom_line() + facet_grid(cluster ~ .)"
   ]
  },
  {
   "cell_type": "markdown",
   "id": "fantastic-valentine",
   "metadata": {},
   "source": [
    "# Gaussian mixture model"
   ]
  },
  {
   "cell_type": "code",
   "execution_count": null,
   "id": "parallel-muscle",
   "metadata": {
    "scrolled": false
   },
   "outputs": [],
   "source": [
    "library(mclust)\n",
    "library(plotmm)\n",
    "library(mixtools)"
   ]
  },
  {
   "cell_type": "code",
   "execution_count": null,
   "id": "double-criterion",
   "metadata": {},
   "outputs": [],
   "source": [
    "citation(\"mclust\")"
   ]
  },
  {
   "cell_type": "code",
   "execution_count": null,
   "id": "faced-recovery",
   "metadata": {},
   "outputs": [],
   "source": [
    "fig(8,6)\n",
    "mod.gm = Mclust(bikes.pca %>% select(PC1:PC5), G=c(5:20))\n",
    "plot(mod.gm, what='BIC')"
   ]
  },
  {
   "cell_type": "code",
   "execution_count": null,
   "id": "adopted-study",
   "metadata": {},
   "outputs": [],
   "source": [
    "summary(mod.gm)"
   ]
  },
  {
   "cell_type": "code",
   "execution_count": null,
   "id": "lucky-visitor",
   "metadata": {},
   "outputs": [],
   "source": [
    "fig(10,10)\n",
    "plotPCAclustering(bikes.pca, mod.gm$classification)"
   ]
  },
  {
   "cell_type": "code",
   "execution_count": null,
   "id": "local-modern",
   "metadata": {},
   "outputs": [],
   "source": [
    "gg_color_hue <- function(n) {\n",
    "  hues = seq(15, 375, length = n + 1)\n",
    "  hcl(h = hues, l = 65, c = 100)[1:n]\n",
    "}\n",
    "colors <- gg_color_hue(7)\n",
    "\n",
    "fig(6,4.5)\n",
    "ggplot(mutate(bikes.pca, cluster=as.factor(mod.gm$classification)), aes(color=cluster, shape=cluster )) + \n",
    "    geom_point(aes(PC1, PC2)) + \n",
    "    theme(text=element_text(size=16)) +\n",
    "    scale_colour_manual(name = \"Cluster\",\n",
    "                      labels = c(\"1\", \"2\", \"3\", \"4\", \"5\", \"6\", \"7\"),\n",
    "                      values = colors[c(6,7,1:5)]) +   \n",
    "    scale_shape_manual(name = \"Cluster\",\n",
    "                     labels = c(\"1\", \"2\", \"3\", \"4\", \"5\", \"6\", \"7\"),\n",
    "                     values = c(15:19, 7, 4))"
   ]
  },
  {
   "cell_type": "code",
   "execution_count": null,
   "id": "banned-methodology",
   "metadata": {},
   "outputs": [],
   "source": [
    "\n",
    "gg_color_hue <- function(n) {\n",
    "  hues = seq(15, 375, length = n + 1)\n",
    "  hcl(h = hues, l = 65, c = 100)[1:n]\n",
    "}\n",
    "colors <- gg_color_hue(10)\n",
    "\n",
    "\n",
    "\n",
    "fig(8,6)\n",
    "ggplot(mutate(bikes.pca, cluster=as.factor(mod.gm$classification)), aes(color=cluster, shape=cluster )) + \n",
    "    geom_point(aes(PC1, PC2)) + \n",
    "    theme(text=element_text(size=16)) +\n",
    "    scale_colour_manual(name = \"Cluster\",\n",
    "                      labels = c(\"1\", \"2\", \"3\", \"4\", \"5\", \"6\", \"7\", \"8\", \"9\", \"10\"),\n",
    "                      values = colors) +   \n",
    "    scale_shape_manual(name = \"Cluster\",\n",
    "                     labels = c(\"1\", \"2\", \"3\", \"4\", \"5\", \"6\", \"7\", \"8\", \"9\", \"10\"),\n",
    "                     values = c(8:18))"
   ]
  },
  {
   "cell_type": "code",
   "execution_count": null,
   "id": "raising-society",
   "metadata": {},
   "outputs": [],
   "source": [
    "fig(6,4)\n",
    "\n",
    "colors <- gg_color_hue(7)\n",
    "\n",
    "qmplot(long, lat, data=mutate(bikes.pca, cluster=as.factor(mod.gm$classification)), color=cluster, shape=cluster)+ \n",
    "    #guides(shape='none') +\n",
    "  scale_colour_manual(name = \"Cluster\",\n",
    "                      labels = c(\"1\", \"2\", \"3\", \"4\", \"5\", \"6\", \"7\"),\n",
    "                      values = colors[c(6,7,1:5)]) +   \n",
    "  scale_shape_manual(name = \"Cluster\",\n",
    "                     labels = c(\"1\", \"2\", \"3\", \"4\", \"5\", \"6\", \"7\"),\n",
    "                     values = c(15:19, 7, 4))"
   ]
  },
  {
   "cell_type": "code",
   "execution_count": null,
   "id": "classified-insert",
   "metadata": {},
   "outputs": [],
   "source": [
    "fig(10,6)\n",
    "day_lab <- rep('', 15)\n",
    "day_lab[2*c(1:7)] <- days\n",
    "\n",
    "bikes.box <- bikes %>% \n",
    "    select(T1:T168) %>%\n",
    "    mutate(cluster = as.factor(mod.gm$classification)) %>%\n",
    "    filter(cluster %in% c(4,7)) %>%\n",
    "    pivot_longer(cols=T1:T168, names_to='time', values_to ='loading') %>%\n",
    "    mutate(time=factor(as.numeric(substring(time, first=2))-1, ordered=TRUE))\n",
    "\n",
    "b4 <- ggplot(bikes.box %>% filter(cluster==4), aes(x=time, y=loading)) +\n",
    "    annotate('rect', \n",
    "                 xmin = 24*c(0:6), xmax = 24*c(1:7), \n",
    "                 ymin = rep(0,7), ymax = rep(1,7), \n",
    "                 fill = daycolors, alpha = .3) + \n",
    "    geom_boxplot(fill='gray') + \n",
    "    scale_x_discrete(breaks=12*c(0:14), labels=day_lab) + \n",
    "    labs(x='', y='', title='Boxplot of station loading in cluster 4') + \n",
    "    theme(text = element_text(size = 14))  \n",
    "\n",
    "b7 <- ggplot(bikes.box %>% filter(cluster==7), aes(x=time, y=loading)) +\n",
    "    annotate('rect', \n",
    "                 xmin = 24*c(0:6), xmax = 24*c(1:7), \n",
    "                 ymin = rep(0,7), ymax = rep(1,7), \n",
    "                 fill = daycolors, alpha = .3) + \n",
    "    geom_boxplot(fill='gray') + \n",
    "    scale_x_discrete(breaks=12*c(0:14), labels=day_lab) + \n",
    "    labs(x='', y='', title='Boxplot of station loading in cluster 7') + \n",
    "    theme(text = element_text(size = 14))  \n",
    "\n",
    "grid.arrange(b4, b7, ncol=1)"
   ]
  },
  {
   "cell_type": "code",
   "execution_count": null,
   "id": "unexpected-gardening",
   "metadata": {},
   "outputs": [],
   "source": [
    "library(ggmosaic)\n",
    "ggplot(tibble(hill=as.factor(bikes$hill), cluster=as.factor(mod.gm$classification))) +\n",
    "  geom_mosaic(aes(x = product(hill, cluster)))"
   ]
  },
  {
   "cell_type": "code",
   "execution_count": null,
   "id": "fixed-albert",
   "metadata": {},
   "outputs": [],
   "source": [
    "K <- 7\n",
    "p <- 5\n",
    "pca.var_coord <- as.matrix(res.pca$var$coord[,1:5])\n",
    "res.gmm <- Mclust(bikes.pca %>% select(PC1:PC5), G=K, model='VVE')\n",
    "centers <- matrix(nrow = 168, ncol = K)\n",
    "for (i in 1:K){\n",
    "    centers[, i] <- res.pca$call$centre +\n",
    "    res.pca$call$ecart.type * res.pca$var$coord[, 1:p] %*% \n",
    "    (as.matrix(res.gmm$parameters$mean[,i], ncol = 1) / sqrt(res.pca$eig[1:p, 1])) # coord. in the orig. space\n",
    "}\n",
    "\n",
    "fig(8,10)\n",
    "p1 <- plot_center(centers, 1)\n",
    "p2 <- plot_center(centers, 2)\n",
    "p3 <- plot_center(centers, 3)\n",
    "p4 <- plot_center(centers, 4)\n",
    "p5 <- plot_center(centers, 5)\n",
    "p6 <- plot_center(centers, 6)\n",
    "p7 <- plot_center(centers, 7)\n",
    "grid.arrange(p1,p2,p3,p4,p5,p6,p7, ncol=1)"
   ]
  },
  {
   "cell_type": "code",
   "execution_count": null,
   "id": "equal-amplifier",
   "metadata": {},
   "outputs": [],
   "source": []
  },
  {
   "cell_type": "code",
   "execution_count": null,
   "id": "published-ownership",
   "metadata": {},
   "outputs": [],
   "source": []
  },
  {
   "cell_type": "code",
   "execution_count": null,
   "id": "divided-faculty",
   "metadata": {},
   "outputs": [],
   "source": []
  }
 ],
 "metadata": {
  "kernelspec": {
   "display_name": "R",
   "language": "R",
   "name": "ir"
  },
  "language_info": {
   "codemirror_mode": "r",
   "file_extension": ".r",
   "mimetype": "text/x-r-source",
   "name": "R",
   "pygments_lexer": "r",
   "version": "4.0.3"
  }
 },
 "nbformat": 4,
 "nbformat_minor": 5
}
