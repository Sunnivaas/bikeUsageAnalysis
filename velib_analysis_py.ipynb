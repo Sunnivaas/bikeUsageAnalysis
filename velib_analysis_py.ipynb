{
 "cells": [
  {
   "cell_type": "code",
   "execution_count": null,
   "id": "located-threat",
   "metadata": {},
   "outputs": [],
   "source": [
    "import numpy as np\n",
    "import pandas as pd\n",
    "import matplotlib.pyplot as plt\n",
    "import folium\n",
    "from folium.plugins import HeatMap, HeatMapWithTime\n",
    "import plotly.express as px"
   ]
  },
  {
   "cell_type": "markdown",
   "id": "large-delivery",
   "metadata": {},
   "source": [
    "### Data preparation"
   ]
  },
  {
   "cell_type": "code",
   "execution_count": null,
   "id": "proved-listening",
   "metadata": {},
   "outputs": [],
   "source": [
    "def date_to_time(date):\n",
    "    day_to_h = {'Lun':0,'Mar':24,'Mer':2*24,'Jeu':3*24,'Ven':4*24,'Sam':5*24,'Dim':6*24}\n",
    "    day = date[:3]\n",
    "    hour = int(date[-2:])\n",
    "    return day_to_h[day] + hour\n",
    "\n",
    "def time_to_day(time):\n",
    "    return time[:3]"
   ]
  },
  {
   "cell_type": "code",
   "execution_count": null,
   "id": "patient-quality",
   "metadata": {},
   "outputs": [],
   "source": [
    "velib = pd.read_csv('velibLoading.csv', sep=' ')\n",
    "velibAdds = pd.read_csv('velibAdds.csv', sep=' ')\n",
    "velib = pd.concat([velibAdds, velib], axis=1)\n",
    "#velib = velib.rename(columns={'longitude':'lon', 'latitude':'lat', 'bonus':'hill'})\n",
    "velib.head()"
   ]
  },
  {
   "cell_type": "code",
   "execution_count": null,
   "id": "sound-darkness",
   "metadata": {},
   "outputs": [],
   "source": [
    "days = ('Monday', 'Tuesday', 'Wednesday', 'Thursday', 'Friday', 'Saturday', 'Sunday')\n",
    "velib_long = velib.melt(id_vars=['longitude','latitude','bonus','names'], var_name='time', value_name='load')#.groupby('name').mean()\n",
    "velib_long['day'] = velib_long['time'].apply(lambda t: t[:3])\n",
    "velib_long['hour'] = velib_long['time'].apply(lambda t: int(t[-2:]))\n",
    "#velib_long.drop('time', inplace=True, axis=1)\n",
    "velib_long.head(10)"
   ]
  },
  {
   "cell_type": "markdown",
   "id": "continuing-beast",
   "metadata": {},
   "source": [
    "# Exploratory statistics"
   ]
  },
  {
   "cell_type": "code",
   "execution_count": null,
   "id": "earlier-pittsburgh",
   "metadata": {},
   "outputs": [],
   "source": [
    "velib_long['time'] = velib_long['time'].apply(date_to_time)\n",
    "data = []\n",
    "for _, d in velib_long.groupby('time'):\n",
    "   data.append([[row['latitude'], row['longitude'], row['load']] for _, row in d.iterrows()])\n",
    "init_lat = velib_long['latitude'].median() #(velib_long['lat'].max() + velib_long['lat'].min()) / 2\n",
    "init_long = velib_long['longitude'].median() #(velib_long['long'].max() + velib_long['long'].min()) / 2\n",
    "\n",
    "m = folium.Map(location=[init_lat, init_long], zoom_start=12)\n",
    "hm = HeatMapWithTime(data, radius=15)\n",
    "hm.add_to(m)\n",
    "m"
   ]
  },
  {
   "cell_type": "code",
   "execution_count": null,
   "id": "incorporated-mount",
   "metadata": {},
   "outputs": [],
   "source": [
    "load_by_hour = velib_long[['day', 'hour', 'load']].groupby(['day', 'hour']).mean()\n",
    "hour = np.arange(24)\n",
    "day_colors = ['#D9F0A3', '#ADDD8E', '#78C679', '#31A354', '#006837', '#6BAED6', '#08519C']\n",
    "days = ['Lun', 'Mar', 'Mer', 'Jeu', 'Ven', 'Sam', 'Dim']\n",
    "daysEng = ['Monday', 'Tuesday', 'Wednesday', 'Thursday', 'Friday', 'Saturday', 'Sunday']\n",
    "plt.figure(figsize=(10,6))\n",
    "plt.title('Average daily loading')\n",
    "for k in range(7):\n",
    "    plt.plot(hour, load_by_hour.loc[days[k]].values, color=day_colors[k], label=daysEng[k-1])\n",
    "plt.legend()\n",
    "plt.show()"
   ]
  },
  {
   "cell_type": "markdown",
   "id": "raising-creator",
   "metadata": {},
   "source": [
    "# PCA"
   ]
  },
  {
   "cell_type": "code",
   "execution_count": null,
   "id": "overall-simpson",
   "metadata": {},
   "outputs": [],
   "source": [
    "from sklearn.decomposition import PCA\n",
    "\n",
    "pca = PCA(n_components=5, whiten=True)\n",
    "pca.fit(velib.iloc[:,4:])\n",
    "PC = pca.components_\n",
    "velib_pc = pca.transform(velib.iloc[:,4:])\n",
    "\n",
    "plt.figure(figsize=(10,10))\n",
    "t = np.arange(168)\n",
    "for k in range(5):\n",
    "    plt.subplot(5,1,k+1)\n",
    "    plt.title('PC%d loading profile' % (k+1))\n",
    "    plt.plot(t, PC[k])\n",
    "    plt.ylim([-1,1])\n",
    "plt.tight_layout()\n",
    "plt.show()"
   ]
  },
  {
   "cell_type": "code",
   "execution_count": null,
   "id": "demonstrated-stevens",
   "metadata": {},
   "outputs": [],
   "source": [
    "velib_pc.shape\n",
    "fig = lambda w,h: plt.figure(figsize=(w,h))\n",
    "fig(6,6)\n",
    "plt.scatter(velib_pc[:,0],velib_pc[:,1], c=velib['bonus'])\n",
    "plt.show()"
   ]
  },
  {
   "cell_type": "markdown",
   "id": "tamil-occasion",
   "metadata": {},
   "source": [
    "# K-means clustering"
   ]
  },
  {
   "cell_type": "code",
   "execution_count": null,
   "id": "significant-thesaurus",
   "metadata": {},
   "outputs": [],
   "source": [
    "from sklearn.cluster import KMeans\n",
    "\n",
    "inertia = np.zeros(10)\n",
    "for k in range(1, 11):\n",
    "    kmeans = KMeans(n_clusters=k).fit(velib.iloc[:,4:])\n",
    "    inertia[k-1] = kmeans.inertia_\n",
    "\n",
    "plt.title('Within-cluster variance')\n",
    "plt.xlabel('k')\n",
    "plt.ylabel('Inertia')\n",
    "plt.bar(np.arange(1, 11), inertia)\n",
    "\n",
    "plt.show()"
   ]
  },
  {
   "cell_type": "code",
   "execution_count": null,
   "id": "marked-hygiene",
   "metadata": {},
   "outputs": [],
   "source": [
    "kmeans = KMeans(n_clusters=4).fit(velib.iloc[:,4:])\n",
    "\n",
    "fig(10,10)\n",
    "t = np.arange(168)\n",
    "for i in range(4):\n",
    "    plt.subplot(5,1,i+1)\n",
    "    plt.title('Centroid %d loading profile' % (i+1))\n",
    "    plt.plot(t, kmeans.cluster_centers_[i])\n",
    "    plt.ylim([0,1])\n",
    "plt.tight_layout()\n",
    "plt.show()"
   ]
  },
  {
   "cell_type": "code",
   "execution_count": null,
   "id": "legendary-nursing",
   "metadata": {},
   "outputs": [],
   "source": [
    "fig(6,6)\n",
    "plt.scatter(velib_pc[:,0],velib_pc[:,1], c=kmeans.labels_, cmap='tab10')\n",
    "plt.xlabel('PC1')\n",
    "plt.ylabel('PC2')\n",
    "plt.show()"
   ]
  },
  {
   "cell_type": "code",
   "execution_count": null,
   "id": "printable-dividend",
   "metadata": {},
   "outputs": [],
   "source": [
    "from sklearn.cluster import AgglomerativeClustering\n",
    "from time import time\n",
    "# #############################################################################\n",
    "# Compute clustering\n",
    "print(\"Compute structured hierarchical clustering...\")\n",
    "st = time()\n",
    "n_clusters = 5  # number of regions\n",
    "ward = AgglomerativeClustering(distance_threshold=0, n_clusters=None, linkage='ward')\n",
    "ward.fit(velib_pc)\n",
    "print(\"Elapsed time: \", time() - st)"
   ]
  },
  {
   "cell_type": "code",
   "execution_count": null,
   "id": "transparent-reporter",
   "metadata": {},
   "outputs": [],
   "source": [
    "from scipy.cluster.hierarchy import dendrogram\n",
    "\n",
    "def plot_dendrogram(model, **kwargs):\n",
    "    # Create linkage matrix and then plot the dendrogram\n",
    "\n",
    "    # create the counts of samples under each node\n",
    "    counts = np.zeros(model.children_.shape[0])\n",
    "    n_samples = len(model.labels_)\n",
    "    for i, merge in enumerate(model.children_):\n",
    "        current_count = 0\n",
    "        for child_idx in merge:\n",
    "            if child_idx < n_samples:\n",
    "                current_count += 1  # leaf node\n",
    "            else:\n",
    "                current_count += counts[child_idx - n_samples]\n",
    "        counts[i] = current_count\n",
    "\n",
    "    linkage_matrix = np.column_stack([model.children_, model.distances_,\n",
    "                                      counts]).astype(float)\n",
    "\n",
    "    # Plot the corresponding dendrogram\n",
    "    dendrogram(linkage_matrix, **kwargs)\n",
    "    plt.xticks([])\n",
    "\n",
    "    \n",
    "plt.title('Hierarchical Clustering Dendrogram')\n",
    "plot_dendrogram(ward)\n",
    "plt.show()"
   ]
  },
  {
   "cell_type": "markdown",
   "id": "weighted-cookbook",
   "metadata": {},
   "source": [
    "# Gaussian mixture models"
   ]
  },
  {
   "cell_type": "code",
   "execution_count": null,
   "id": "reverse-greek",
   "metadata": {},
   "outputs": [],
   "source": [
    "from sklearn.mixture import GaussianMixture\n",
    "\n",
    "gmm = GaussianMixture(n_components=7, covariance_type='full')\n",
    "gmm_labels = gmm.fit_predict(velib_pc)"
   ]
  },
  {
   "cell_type": "code",
   "execution_count": null,
   "id": "heavy-chrome",
   "metadata": {},
   "outputs": [],
   "source": [
    "fig(6,6)\n",
    "plt.scatter(velib_pc[:,0],velib_pc[:,1], c=gmm_labels, cmap='tab10')\n",
    "plt.xlabel('PC1')\n",
    "plt.ylabel('PC2')\n",
    "plt.show()"
   ]
  }
 ],
 "metadata": {
  "kernelspec": {
   "display_name": "Python 3",
   "language": "python",
   "name": "python3"
  },
  "language_info": {
   "codemirror_mode": {
    "name": "ipython",
    "version": 3
   },
   "file_extension": ".py",
   "mimetype": "text/x-python",
   "name": "python",
   "nbconvert_exporter": "python",
   "pygments_lexer": "ipython3",
   "version": "3.8.7"
  }
 },
 "nbformat": 4,
 "nbformat_minor": 5
}
